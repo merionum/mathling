{
 "cells": [
  {
   "cell_type": "code",
   "execution_count": 1,
   "metadata": {},
   "outputs": [],
   "source": [
    "import xml.etree.ElementTree as ET\n",
    "import collections\n",
    "import pandas as pd\n",
    "import matplotlib.pyplot as plt\n",
    "import numpy as np\n",
    "import pprint"
   ]
  },
  {
   "cell_type": "code",
   "execution_count": 2,
   "metadata": {
    "scrolled": true
   },
   "outputs": [],
   "source": [
    "def get_contexts(xml_file, left_window=1, right_window=2):\n",
    "    tree = ET.parse(xml_file)\n",
    "    root = tree.getroot()\n",
    "    all_prepositions = collections.Counter()\n",
    "    contexts = []\n",
    "\n",
    "    for paragr in root[0]:\n",
    "        for sent in paragr:\n",
    "            if sent.tag == 'se':\n",
    "                for word_id in range(len(sent)):\n",
    "                    cur_word = sent[word_id][0].attrib\n",
    "                    if cur_word['gr'] == 'PR':\n",
    "                        # counting all prepositions in corpus\n",
    "                        all_prepositions[cur_word['lex']] += 1\n",
    "                        if (word_id - left_window) < 0 or (word_id + right_window) > len(sent)-1:\n",
    "                            continue\n",
    "                        n_grams = []\n",
    "                        for win_type in left_window, right_window:\n",
    "                            if win_type is left_window:\n",
    "                                for win in range(win_type, 0, -1):\n",
    "                                    n_grams.append(sent[word_id-win][0].attrib)\n",
    "                                    if win is 1:\n",
    "                                        n_grams.append(cur_word)\n",
    "                            else:\n",
    "                                for win in range(1, win_type+1):\n",
    "                                    n_grams.append(sent[word_id+win][0].attrib)\n",
    "                        contexts.append(n_grams)\n",
    "\n",
    "    all_prepositions = sorted(all_prepositions.items(), key=lambda kv: kv[1], reverse=True)\n",
    "    return contexts, all_prepositions"
   ]
  },
  {
   "cell_type": "code",
   "execution_count": 3,
   "metadata": {},
   "outputs": [],
   "source": [
    "left_window = 1\n",
    "right_window = 2\n",
    "contexts, all_prepositions = get_contexts('discussion.xml', left_window=left_window, right_window=right_window)"
   ]
  },
  {
   "cell_type": "code",
   "execution_count": 4,
   "metadata": {},
   "outputs": [
    {
     "name": "stdout",
     "output_type": "stream",
     "text": [
      "[('в', 268),\n",
      " ('на', 111),\n",
      " ('с', 82),\n",
      " ('по', 58),\n",
      " ('о', 46),\n",
      " ('из', 37),\n",
      " ('к', 33),\n",
      " ('для', 32),\n",
      " ('за', 22),\n",
      " ('у', 20),\n",
      " ('от', 20),\n",
      " ('до', 20),\n",
      " ('во', 19),\n",
      " ('об', 16),\n",
      " ('при', 15),\n",
      " ('после', 12),\n",
      " ('между', 10)]\n"
     ]
    }
   ],
   "source": [
    "# further work only with those prepositions which have frequency value >= 10  \n",
    "top_prepositions = [prep for prep in all_prepositions if prep[1] >= 10]\n",
    "contexts = [phrase for phrase in contexts if phrase[left_window]['lex'] in [prep[0] for prep in top_prepositions]]\n",
    "pprint.pprint(top_prepositions)"
   ]
  },
  {
   "cell_type": "code",
   "execution_count": 5,
   "metadata": {},
   "outputs": [
    {
     "data": {
      "text/plain": [
       "708"
      ]
     },
     "execution_count": 5,
     "metadata": {},
     "output_type": "execute_result"
    }
   ],
   "source": [
    "len(contexts)"
   ]
  },
  {
   "cell_type": "code",
   "execution_count": 6,
   "metadata": {},
   "outputs": [],
   "source": [
    "# Workflow for a single prep (\"В\")"
   ]
  },
  {
   "cell_type": "code",
   "execution_count": 7,
   "metadata": {},
   "outputs": [],
   "source": [
    "sub_corpus = [phrase for phrase in contexts if phrase[left_window]['lex'] == 'в']"
   ]
  },
  {
   "cell_type": "code",
   "execution_count": 8,
   "metadata": {},
   "outputs": [
    {
     "name": "stdout",
     "output_type": "stream",
     "text": [
      "Counter({'t:move ': 10,\n",
      "         't:be:exist ': 5,\n",
      "         't:poss ': 4,\n",
      "         't:changest ': 2,\n",
      "         't:perc ': 2,\n",
      "         't:speech ': 2,\n",
      "         't:ment ': 2,\n",
      "         't:sound ': 2,\n",
      "         't:be:appear ': 1,\n",
      "         't:light ': 1})\n"
     ]
    }
   ],
   "source": [
    "# looking for similar verbs in preposition (specifically selecting verbs of movement)\n",
    "movement_phrases = []\n",
    "verb_counter = collections.Counter()\n",
    "for phrase in sub_corpus:\n",
    "    if phrase[0]['gr'][0] == 'V':\n",
    "        if 'sem' in phrase[0]:\n",
    "            verb_counter[phrase[0]['sem']] += 1\n",
    "            if phrase[0]['sem'] == 't:move ':\n",
    "                movement_phrases.append(phrase)\n",
    "                \n",
    "pprint.pprint(verb_counter)"
   ]
  },
  {
   "cell_type": "code",
   "execution_count": 9,
   "metadata": {},
   "outputs": [
    {
     "name": "stdout",
     "output_type": "stream",
     "text": [
      "[[{'gr': 'V ipf tran pl act praes 3p indic',\n",
      "   'lex': 'проходить',\n",
      "   'sem': 't:move '},\n",
      "  {'gr': 'PR', 'lex': 'в'},\n",
      "  {'gr': 'S n inan sg acc', 'lex': 'течение', 'sem': 't:move r:abstr '},\n",
      "  {'gr': 'APRO m sg gen', 'lex': 'весь', 'sem': 'r:spec '}],\n",
      " [{'gr': 'V pf intr med pl praet indic', 'lex': 'разойтись', 'sem': 't:move '},\n",
      "  {'gr': 'PR', 'lex': 'в'},\n",
      "  {'gr': 'S f inan sg loc', 'lex': 'оценка', 'sem': 't:ment r:abstr '},\n",
      "  {'gr': 'APRO', 'lex': 'его', 'sem': 'r:poss '}],\n",
      " [{'gr': 'V pf partcp praet pass brev pl', 'lex': 'подвести', 'sem': 't:move '},\n",
      "  {'gr': 'PR', 'lex': 'в'},\n",
      "  {'gr': 'A sg m loc plen', 'lex': 'обычный', 'sem': 'r:rel '},\n",
      "  {'gr': 'S m inan sg loc', 'lex': 'стиль', 'sem': 'pt:aggr r:abstr '}],\n",
      " [{'gr': 'V pf intr act sg fut 1p indic', 'lex': 'уехать', 'sem': 't:move '},\n",
      "  {'gr': 'PR', 'lex': 'в'},\n",
      "  {'gr': 'S f inan sg acc', 'lex': 'суббота', 'sem': 't:time:week r:abstr '},\n",
      "  {'gr': 'V ipf intr act m sg praet indic', 'lex': 'воевать'}],\n",
      " [{'gr': 'V pf tran act inf', 'lex': 'переехать', 'sem': 't:move '},\n",
      "  {'gr': 'PR', 'lex': 'в'},\n",
      "  {'gr': 'S f inan sg acc',\n",
      "   'lex': 'Самара',\n",
      "   'sem': 't:hum t:topon r:propn t:persn '},\n",
      "  {'gr': 'PR', 'lex': 'к'}],\n",
      " [{'gr': 'V pf intr act f sg praet indic', 'lex': 'перетечь', 'sem': 't:move '},\n",
      "  {'gr': 'PR', 'lex': 'в'},\n",
      "  {'gr': 'S n inan sg acc', 'lex': 'обсуждение', 'sem': 't:speech r:abstr '},\n",
      "  {'gr': 'A pl gen plen', 'lex': 'технический', 'sem': 'r:rel '}],\n",
      " [{'gr': 'V pf intr act pl fut 3p indic', 'lex': 'уйти', 'sem': 't:move '},\n",
      "  {'gr': 'PR', 'lex': 'в'},\n",
      "  {'gr': 'A m sg acc inan plen', 'lex': 'федеральный', 'sem': 'r:rel '},\n",
      "  {'gr': 'S m inan sg acc', 'lex': 'бюджет', 'sem': 'r:concr '}],\n",
      " [{'gr': 'V pf tran m sg act praet indic', 'lex': 'внести', 'sem': 't:move '},\n",
      "  {'gr': 'PR', 'lex': 'в'},\n",
      "  {'gr': 'S f inan sg acc', 'lex': 'Госдума', 'sem': 'r:propn t:org '},\n",
      "  {'gr': 'S m inan pl acc', 'lex': 'проект', 'sem': 't:ment r:abstr '}],\n",
      " [{'gr': 'V pf intr act m sg praet indic', 'lex': 'войти', 'sem': 't:move '},\n",
      "  {'gr': 'PR', 'lex': 'в'},\n",
      "  {'gr': 'S n inan sg acc',\n",
      "   'lex': 'правительство',\n",
      "   'sem': 'pt:set t:org t:group pt:part r:concr '},\n",
      "  {'gr': 'S f inan sg acc', 'lex': 'деятельность', 'sem': 'r:abstr '}],\n",
      " [{'gr': 'V ipf intr med sg praes 3p indic',\n",
      "   'lex': 'вертеться',\n",
      "   'sem': 't:move '},\n",
      "  {'gr': 'PR', 'lex': 'в'},\n",
      "  {'gr': 'A m sg loc plen', 'lex': 'заколдованный', 'sem': 'r:rel '},\n",
      "  {'gr': 'S m inan sg loc2', 'lex': 'круг', 'sem': 'r:concr t:form:geom '}]]\n"
     ]
    }
   ],
   "source": [
    "pprint.pprint(movement_phrases)"
   ]
  },
  {
   "cell_type": "code",
   "execution_count": null,
   "metadata": {},
   "outputs": [],
   "source": []
  }
 ],
 "metadata": {
  "kernelspec": {
   "display_name": "Python 3",
   "language": "python",
   "name": "python3"
  },
  "language_info": {
   "codemirror_mode": {
    "name": "ipython",
    "version": 3
   },
   "file_extension": ".py",
   "mimetype": "text/x-python",
   "name": "python",
   "nbconvert_exporter": "python",
   "pygments_lexer": "ipython3",
   "version": "3.7.2"
  }
 },
 "nbformat": 4,
 "nbformat_minor": 2
}
